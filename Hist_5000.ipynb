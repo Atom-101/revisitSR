{
 "cells": [
  {
   "cell_type": "code",
   "execution_count": 1,
   "metadata": {
    "collapsed": true
   },
   "outputs": [],
   "source": [
    "import numpy as np\n",
    "import matplotlib.pyplot as plt"
   ]
  },
  {
   "cell_type": "code",
   "execution_count": 13,
   "metadata": {},
   "outputs": [],
   "source": [
    "arr = []\n",
    "with open('psnr_5000_file.txt', 'r') as f:\n",
    "    for line in f:\n",
    "        try:\n",
    "            num = float(line[:-1])\n",
    "            if num>30:\n",
    "                continue\n",
    "            arr.append(num)\n",
    "        except:\n",
    "            pass\n",
    "arr = np.array(arr)"
   ]
  },
  {
   "cell_type": "code",
   "execution_count": 4,
   "metadata": {},
   "outputs": [
    {
     "data": {
      "text/plain": [
       "20002"
      ]
     },
     "execution_count": 4,
     "metadata": {},
     "output_type": "execute_result"
    }
   ],
   "source": [
    "len(arr)"
   ]
  },
  {
   "cell_type": "code",
   "execution_count": 5,
   "metadata": {},
   "outputs": [
    {
     "data": {
      "text/plain": [
       "(array([1.5964e+04, 3.6900e+03, 3.0800e+02, 2.2000e+01, 1.0000e+01,\n",
       "        4.0000e+00, 0.0000e+00, 2.0000e+00, 0.0000e+00, 2.0000e+00]),\n",
       " array([  1.35604362,  11.22043925,  21.08483489,  30.94923053,\n",
       "         40.81362617,  50.67802181,  60.54241745,  70.40681308,\n",
       "         80.27120872,  90.13560436, 100.        ]),\n",
       " <BarContainer object of 10 artists>)"
      ]
     },
     "execution_count": 5,
     "metadata": {},
     "output_type": "execute_result"
    },
    {
     "data": {
      "image/png": "[encoded data removed]",
      "text/plain": [
       "<Figure size 432x288 with 1 Axes>"
      ]
     },
     "metadata": {
      "needs_background": "light"
     },
     "output_type": "display_data"
    }
   ],
   "source": [
    "plt.hist(arr)"
   ]
  },
  {
   "cell_type": "code",
   "execution_count": 6,
   "metadata": {},
   "outputs": [
    {
     "data": {
      "text/plain": [
       "(8.594999942259335, 4.4567485716762425)"
      ]
     },
     "execution_count": 6,
     "metadata": {},
     "output_type": "execute_result"
    }
   ],
   "source": [
    "arr.mean(), arr.std()"
   ]
  },
  {
   "cell_type": "code",
   "execution_count": 15,
   "metadata": {},
   "outputs": [
    {
     "data": {
      "text/plain": [
       "(array([ 562., 1533., 2734., 3306., 3340., 2742., 1893., 1288.,  792.,\n",
       "         556.,  358.,  248.,  180.,  138.,  100.,   76.,   54.,   28.,\n",
       "          18.,   10.]),\n",
       " array([ 1.35604362,  2.77982349,  4.20360337,  5.62738324,  7.05116312,\n",
       "         8.474943  ,  9.89872287, 11.32250275, 12.74628262, 14.1700625 ,\n",
       "        15.59384237, 17.01762225, 18.44140213, 19.865182  , 21.28896188,\n",
       "        22.71274175, 24.13652163, 25.56030151, 26.98408138, 28.40786126,\n",
       "        29.83164113]),\n",
       " <BarContainer object of 20 artists>)"
      ]
     },
     "execution_count": 15,
     "metadata": {},
     "output_type": "execute_result"
    },
    {
     "data": {
      "image/png": "[encoded data removed]",
      "text/plain": [
       "<Figure size 432x288 with 1 Axes>"
      ]
     },
     "metadata": {
      "needs_background": "light"
     },
     "output_type": "display_data"
    }
   ],
   "source": [
    "plt.hist(arr,bins=20)"
   ]
  },
  {
   "cell_type": "code",
   "execution_count": 7,
   "metadata": {
    "collapsed": true
   },
   "outputs": [],
   "source": [
    "arr = []\n",
    "with open('psnr_test_file.txt', 'r') as f:\n",
    "    for line in f:\n",
    "        try:\n",
    "            arr.append(float(line[:-1]))\n",
    "        except:\n",
    "            pass\n",
    "arr = np.array(arr)"
   ]
  },
  {
   "cell_type": "code",
   "execution_count": 8,
   "metadata": {},
   "outputs": [
    {
     "data": {
      "text/plain": [
       "333"
      ]
     },
     "execution_count": 8,
     "metadata": {},
     "output_type": "execute_result"
    }
   ],
   "source": [
    "len(arr)"
   ]
  },
  {
   "cell_type": "code",
   "execution_count": 9,
   "metadata": {},
   "outputs": [
    {
     "data": {
      "text/plain": [
       "(array([17., 47., 69., 81., 47., 46., 18.,  6.,  1.,  1.]),\n",
       " array([ 0.79876035,  2.09469465,  3.39062894,  4.68656323,  5.98249753,\n",
       "         7.27843182,  8.57436611,  9.87030041, 11.1662347 , 12.46216899,\n",
       "        13.75810328]),\n",
       " <BarContainer object of 10 artists>)"
      ]
     },
     "execution_count": 9,
     "metadata": {},
     "output_type": "execute_result"
    },
    {
     "data": {
      "image/png": "[encoded data removed]",
      "text/plain": [
       "<Figure size 432x288 with 1 Axes>"
      ]
     },
     "metadata": {
      "needs_background": "light"
     },
     "output_type": "display_data"
    }
   ],
   "source": [
    "plt.hist(arr)"
   ]
  },
  {
   "cell_type": "code",
   "execution_count": 10,
   "metadata": {},
   "outputs": [
    {
     "data": {
      "text/plain": [
       "(5.369745519887032, 2.2066001776084216)"
      ]
     },
     "execution_count": 10,
     "metadata": {},
     "output_type": "execute_result"
    }
   ],
   "source": [
    "arr.mean(), arr.std()"
   ]
  }
 ],
 "metadata": {
  "kernelspec": {
   "display_name": "snemi",
   "language": "python",
   "name": "snemi"
  },
  "language_info": {
   "codemirror_mode": {
    "name": "ipython",
    "version": 3
   },
   "file_extension": ".py",
   "mimetype": "text/x-python",
   "name": "python",
   "nbconvert_exporter": "python",
   "pygments_lexer": "ipython3",
   "version": "3.8.5"
  }
 },
 "nbformat": 4,
 "nbformat_minor": 2
}
